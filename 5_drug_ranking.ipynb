{
 "cells": [
  {
   "cell_type": "code",
   "execution_count": 1,
   "metadata": {
    "collapsed": true,
    "pycharm": {
     "name": "#%%\n"
    }
   },
   "outputs": [],
   "source": [
    "#modules\n",
    "import csv\n",
    "import pickle\n",
    "import numpy as np\n",
    "import pandas as pd\n",
    "import pathway_analysis as pa\n",
    "\n",
    "#submodules\n",
    "from matplotlib import pyplot as plt"
   ]
  },
  {
   "cell_type": "markdown",
   "metadata": {
    "collapsed": false,
    "pycharm": {
     "name": "#%% md\n"
    }
   },
   "source": [
    "### Read Scores"
   ]
  },
  {
   "cell_type": "code",
   "execution_count": 2,
   "metadata": {
    "collapsed": false,
    "pycharm": {
     "name": "#%%\n"
    }
   },
   "outputs": [],
   "source": [
    "df_scores_exponential = pd.read_csv('disease-target-scores.csv', index_col=0)\n",
    "df_scores_shortest_path = pd.read_csv('disease-target-scores-shortest-path.csv', index_col=0)"
   ]
  },
  {
   "cell_type": "code",
   "execution_count": 3,
   "metadata": {
    "collapsed": false,
    "pycharm": {
     "name": "#%%\n"
    }
   },
   "outputs": [],
   "source": [
    "tar_genes = list(df_scores_shortest_path.index)"
   ]
  },
  {
   "cell_type": "code",
   "execution_count": 4,
   "metadata": {
    "collapsed": false,
    "pycharm": {
     "name": "#%%\n"
    }
   },
   "outputs": [],
   "source": [
    "aliases = pa.get_biogrid_aliases()"
   ]
  },
  {
   "cell_type": "markdown",
   "metadata": {
    "collapsed": false,
    "pycharm": {
     "name": "#%% md\n"
    }
   },
   "source": [
    "### Get target drug dataframe"
   ]
  },
  {
   "cell_type": "code",
   "execution_count": 5,
   "metadata": {},
   "outputs": [
    {
     "data": {
      "text/html": [
       "<div>\n",
       "<style scoped>\n",
       "    .dataframe tbody tr th:only-of-type {\n",
       "        vertical-align: middle;\n",
       "    }\n",
       "\n",
       "    .dataframe tbody tr th {\n",
       "        vertical-align: top;\n",
       "    }\n",
       "\n",
       "    .dataframe thead th {\n",
       "        text-align: right;\n",
       "    }\n",
       "</style>\n",
       "<table border=\"1\" class=\"dataframe\">\n",
       "  <thead>\n",
       "    <tr style=\"text-align: right;\">\n",
       "      <th></th>\n",
       "      <th>DrugID</th>\n",
       "      <th>GeneName</th>\n",
       "      <th>Status</th>\n",
       "      <th>DrugName</th>\n",
       "    </tr>\n",
       "  </thead>\n",
       "  <tbody>\n",
       "    <tr>\n",
       "      <th>733</th>\n",
       "      <td>D0O8GK</td>\n",
       "      <td>EGFR</td>\n",
       "      <td>Approved</td>\n",
       "      <td>Osimertinib</td>\n",
       "    </tr>\n",
       "    <tr>\n",
       "      <th>734</th>\n",
       "      <td>D04WYX</td>\n",
       "      <td>SLC6A2</td>\n",
       "      <td>Approved</td>\n",
       "      <td>Netarsudil</td>\n",
       "    </tr>\n",
       "    <tr>\n",
       "      <th>735</th>\n",
       "      <td>D04WYX</td>\n",
       "      <td>SLC6A2</td>\n",
       "      <td>Approved</td>\n",
       "      <td>Netarsudil</td>\n",
       "    </tr>\n",
       "    <tr>\n",
       "      <th>736</th>\n",
       "      <td>D04WYX</td>\n",
       "      <td>SLC6A2</td>\n",
       "      <td>Approved</td>\n",
       "      <td>Netarsudil</td>\n",
       "    </tr>\n",
       "    <tr>\n",
       "      <th>737</th>\n",
       "      <td>D04WYX</td>\n",
       "      <td>Rok</td>\n",
       "      <td>Approved</td>\n",
       "      <td>Netarsudil</td>\n",
       "    </tr>\n",
       "    <tr>\n",
       "      <th>...</th>\n",
       "      <td>...</td>\n",
       "      <td>...</td>\n",
       "      <td>...</td>\n",
       "      <td>...</td>\n",
       "    </tr>\n",
       "    <tr>\n",
       "      <th>73804</th>\n",
       "      <td>DQ1S0B</td>\n",
       "      <td>KLKB1</td>\n",
       "      <td>Approved</td>\n",
       "      <td>Berotralstat</td>\n",
       "    </tr>\n",
       "    <tr>\n",
       "      <th>73805</th>\n",
       "      <td>DBG46D</td>\n",
       "      <td>FOLH1</td>\n",
       "      <td>Approved</td>\n",
       "      <td>PSMA-11 Ga-68</td>\n",
       "    </tr>\n",
       "    <tr>\n",
       "      <th>73806</th>\n",
       "      <td>DQ4TO3</td>\n",
       "      <td>ARSA</td>\n",
       "      <td>Approved</td>\n",
       "      <td>OTL-200</td>\n",
       "    </tr>\n",
       "    <tr>\n",
       "      <th>73807</th>\n",
       "      <td>D2G4HB</td>\n",
       "      <td>SLC10A1</td>\n",
       "      <td>Approved</td>\n",
       "      <td>Bulevirtide</td>\n",
       "    </tr>\n",
       "    <tr>\n",
       "      <th>73808</th>\n",
       "      <td>DF36DY</td>\n",
       "      <td>ALAS1</td>\n",
       "      <td>Approved</td>\n",
       "      <td>Givosiran</td>\n",
       "    </tr>\n",
       "  </tbody>\n",
       "</table>\n",
       "<p>2999 rows × 4 columns</p>\n",
       "</div>"
      ],
      "text/plain": [
       "       DrugID GeneName    Status       DrugName\n",
       "733    D0O8GK     EGFR  Approved    Osimertinib\n",
       "734    D04WYX   SLC6A2  Approved     Netarsudil\n",
       "735    D04WYX   SLC6A2  Approved     Netarsudil\n",
       "736    D04WYX   SLC6A2  Approved     Netarsudil\n",
       "737    D04WYX      Rok  Approved     Netarsudil\n",
       "...       ...      ...       ...            ...\n",
       "73804  DQ1S0B    KLKB1  Approved   Berotralstat\n",
       "73805  DBG46D    FOLH1  Approved  PSMA-11 Ga-68\n",
       "73806  DQ4TO3     ARSA  Approved        OTL-200\n",
       "73807  D2G4HB  SLC10A1  Approved    Bulevirtide\n",
       "73808  DF36DY    ALAS1  Approved      Givosiran\n",
       "\n",
       "[2999 rows x 4 columns]"
      ]
     },
     "execution_count": 5,
     "metadata": {},
     "output_type": "execute_result"
    }
   ],
   "source": [
    "df_drugs = pd.read_csv('drugs.csv', index_col=0)\n",
    "df_drugs = df_drugs[df_drugs['Status'] == 'Approved']\n",
    "df_drugs"
   ]
  },
  {
   "cell_type": "code",
   "execution_count": 6,
   "metadata": {
    "collapsed": false,
    "pycharm": {
     "name": "#%%\n"
    }
   },
   "outputs": [],
   "source": [
    "target_set = set(tar_genes)\n",
    "drug_list = []\n",
    "drug_scores_exponential_list = []\n",
    "for drug, targets in df_drugs.groupby('DrugName')['GeneName']:\n",
    "    intersection_genes = set(targets).intersection(tar_genes)\n",
    "    if intersection_genes:\n",
    "        drug_list.append(drug)\n",
    "        drug_scores_exponential_list.append(df_scores_exponential.loc[list(intersection_genes), :].max().values)"
   ]
  },
  {
   "cell_type": "code",
   "execution_count": 7,
   "metadata": {},
   "outputs": [
    {
     "name": "stdout",
     "output_type": "stream",
     "text": [
      "1.055646481178396\n"
     ]
    },
    {
     "data": {
      "text/plain": [
       "{'whiskers': [<matplotlib.lines.Line2D at 0x1b9234dfc10>,\n",
       "  <matplotlib.lines.Line2D at 0x1b9234dfee0>],\n",
       " 'caps': [<matplotlib.lines.Line2D at 0x1b92379c2b0>,\n",
       "  <matplotlib.lines.Line2D at 0x1b92379c4c0>],\n",
       " 'boxes': [<matplotlib.lines.Line2D at 0x1b9234df940>],\n",
       " 'medians': [<matplotlib.lines.Line2D at 0x1b92379c790>],\n",
       " 'fliers': [<matplotlib.lines.Line2D at 0x1b92379ca60>],\n",
       " 'means': []}"
      ]
     },
     "execution_count": 7,
     "metadata": {},
     "output_type": "execute_result"
    },
    {
     "data": {
      "image/png": "[encoded data removed]",
      "text/plain": [
       "<Figure size 432x288 with 1 Axes>"
      ]
     },
     "metadata": {
      "needs_background": "light"
     },
     "output_type": "display_data"
    }
   ],
   "source": [
    "n_tar = []\n",
    "for drug, targets in df_drugs.groupby('DrugName')['GeneName']:\n",
    "    intersection_genes = set(targets).intersection(tar_genes)\n",
    "    if intersection_genes:\n",
    "        n_tar.append(len(intersection_genes))\n",
    "print(np.mean(n_tar))\n",
    "plt.boxplot(n_tar)"
   ]
  },
  {
   "cell_type": "code",
   "execution_count": 8,
   "metadata": {},
   "outputs": [
    {
     "data": {
      "text/plain": [
       "(-1.0, 10.0)"
      ]
     },
     "execution_count": 8,
     "metadata": {},
     "output_type": "execute_result"
    },
    {
     "data": {
      "image/png": "[encoded data removed]",
      "text/plain": [
       "<Figure size 432x288 with 1 Axes>"
      ]
     },
     "metadata": {
      "needs_background": "light"
     },
     "output_type": "display_data"
    }
   ],
   "source": [
    "n_tar = []\n",
    "for d in drug_list:\n",
    "    n_tar.append(len(df_drugs[df_drugs['DrugName'] == d]))\n",
    "\n",
    "np.mean(n_tar)\n",
    "plt.boxplot(n_tar)\n",
    "plt.ylim(-1, 10)"
   ]
  },
  {
   "cell_type": "markdown",
   "metadata": {},
   "source": [
    "### Exponential decay score"
   ]
  },
  {
   "cell_type": "code",
   "execution_count": 9,
   "metadata": {
    "collapsed": false,
    "pycharm": {
     "name": "#%%\n"
    }
   },
   "outputs": [
    {
     "data": {
      "text/html": [
       "<div>\n",
       "<style scoped>\n",
       "    .dataframe tbody tr th:only-of-type {\n",
       "        vertical-align: middle;\n",
       "    }\n",
       "\n",
       "    .dataframe tbody tr th {\n",
       "        vertical-align: top;\n",
       "    }\n",
       "\n",
       "    .dataframe thead th {\n",
       "        text-align: right;\n",
       "    }\n",
       "</style>\n",
       "<table border=\"1\" class=\"dataframe\">\n",
       "  <thead>\n",
       "    <tr style=\"text-align: right;\">\n",
       "      <th></th>\n",
       "      <th>alkaptonuria</th>\n",
       "      <th>homocystinuria</th>\n",
       "      <th>nonketotic hyperglycinemia</th>\n",
       "      <th>phenylketonuria</th>\n",
       "      <th>tyrosinemia I</th>\n",
       "      <th>tyrosinemia II</th>\n",
       "      <th>tyrosinemia III</th>\n",
       "    </tr>\n",
       "  </thead>\n",
       "  <tbody>\n",
       "    <tr>\n",
       "      <th>(S)-(+)-Dimethindene maleate</th>\n",
       "      <td>0.001060</td>\n",
       "      <td>0.210078</td>\n",
       "      <td>0.116027</td>\n",
       "      <td>0.118229</td>\n",
       "      <td>0.113809</td>\n",
       "      <td>0.248197</td>\n",
       "      <td>0.239275</td>\n",
       "    </tr>\n",
       "    <tr>\n",
       "      <th>99mTc-fanolesomab</th>\n",
       "      <td>0.001060</td>\n",
       "      <td>0.021556</td>\n",
       "      <td>0.007489</td>\n",
       "      <td>0.118229</td>\n",
       "      <td>0.001278</td>\n",
       "      <td>0.248197</td>\n",
       "      <td>0.000736</td>\n",
       "    </tr>\n",
       "    <tr>\n",
       "      <th>ABIRATERONE</th>\n",
       "      <td>0.404165</td>\n",
       "      <td>0.317359</td>\n",
       "      <td>0.166727</td>\n",
       "      <td>0.628150</td>\n",
       "      <td>0.776883</td>\n",
       "      <td>0.248197</td>\n",
       "      <td>0.239275</td>\n",
       "    </tr>\n",
       "    <tr>\n",
       "      <th>ACECLIDINE</th>\n",
       "      <td>0.679027</td>\n",
       "      <td>0.401225</td>\n",
       "      <td>0.273655</td>\n",
       "      <td>0.810341</td>\n",
       "      <td>0.993502</td>\n",
       "      <td>0.790538</td>\n",
       "      <td>0.834230</td>\n",
       "    </tr>\n",
       "    <tr>\n",
       "      <th>ANGIOTENSIN II</th>\n",
       "      <td>0.679027</td>\n",
       "      <td>0.463419</td>\n",
       "      <td>0.467332</td>\n",
       "      <td>0.807926</td>\n",
       "      <td>0.776883</td>\n",
       "      <td>0.248197</td>\n",
       "      <td>0.239275</td>\n",
       "    </tr>\n",
       "    <tr>\n",
       "      <th>...</th>\n",
       "      <td>...</td>\n",
       "      <td>...</td>\n",
       "      <td>...</td>\n",
       "      <td>...</td>\n",
       "      <td>...</td>\n",
       "      <td>...</td>\n",
       "      <td>...</td>\n",
       "    </tr>\n",
       "    <tr>\n",
       "      <th>Zolmitriptan</th>\n",
       "      <td>0.679027</td>\n",
       "      <td>0.243646</td>\n",
       "      <td>0.273655</td>\n",
       "      <td>0.016618</td>\n",
       "      <td>0.113809</td>\n",
       "      <td>0.248197</td>\n",
       "      <td>0.239275</td>\n",
       "    </tr>\n",
       "    <tr>\n",
       "      <th>Zotarolimus</th>\n",
       "      <td>0.999879</td>\n",
       "      <td>0.993980</td>\n",
       "      <td>0.996423</td>\n",
       "      <td>0.924337</td>\n",
       "      <td>0.999997</td>\n",
       "      <td>0.939731</td>\n",
       "      <td>0.964917</td>\n",
       "    </tr>\n",
       "    <tr>\n",
       "      <th>lifitegrast</th>\n",
       "      <td>1.000000</td>\n",
       "      <td>0.243646</td>\n",
       "      <td>0.610911</td>\n",
       "      <td>0.673310</td>\n",
       "      <td>0.113809</td>\n",
       "      <td>0.248197</td>\n",
       "      <td>0.239275</td>\n",
       "    </tr>\n",
       "    <tr>\n",
       "      <th>nusinersen</th>\n",
       "      <td>0.550944</td>\n",
       "      <td>0.432035</td>\n",
       "      <td>0.297133</td>\n",
       "      <td>0.662435</td>\n",
       "      <td>0.393862</td>\n",
       "      <td>0.567643</td>\n",
       "      <td>0.599157</td>\n",
       "    </tr>\n",
       "    <tr>\n",
       "      <th>protirelin</th>\n",
       "      <td>0.976412</td>\n",
       "      <td>0.168896</td>\n",
       "      <td>0.018400</td>\n",
       "      <td>0.216777</td>\n",
       "      <td>0.048552</td>\n",
       "      <td>0.790538</td>\n",
       "      <td>0.092330</td>\n",
       "    </tr>\n",
       "  </tbody>\n",
       "</table>\n",
       "<p>611 rows × 7 columns</p>\n",
       "</div>"
      ],
      "text/plain": [
       "                              alkaptonuria  homocystinuria  \\\n",
       "(S)-(+)-Dimethindene maleate      0.001060        0.210078   \n",
       "99mTc-fanolesomab                 0.001060        0.021556   \n",
       "ABIRATERONE                       0.404165        0.317359   \n",
       "ACECLIDINE                        0.679027        0.401225   \n",
       "ANGIOTENSIN II                    0.679027        0.463419   \n",
       "...                                    ...             ...   \n",
       "Zolmitriptan                      0.679027        0.243646   \n",
       "Zotarolimus                       0.999879        0.993980   \n",
       "lifitegrast                       1.000000        0.243646   \n",
       "nusinersen                        0.550944        0.432035   \n",
       "protirelin                        0.976412        0.168896   \n",
       "\n",
       "                              nonketotic hyperglycinemia  phenylketonuria  \\\n",
       "(S)-(+)-Dimethindene maleate                    0.116027         0.118229   \n",
       "99mTc-fanolesomab                               0.007489         0.118229   \n",
       "ABIRATERONE                                     0.166727         0.628150   \n",
       "ACECLIDINE                                      0.273655         0.810341   \n",
       "ANGIOTENSIN II                                  0.467332         0.807926   \n",
       "...                                                  ...              ...   \n",
       "Zolmitriptan                                    0.273655         0.016618   \n",
       "Zotarolimus                                     0.996423         0.924337   \n",
       "lifitegrast                                     0.610911         0.673310   \n",
       "nusinersen                                      0.297133         0.662435   \n",
       "protirelin                                      0.018400         0.216777   \n",
       "\n",
       "                              tyrosinemia I  tyrosinemia II  tyrosinemia III  \n",
       "(S)-(+)-Dimethindene maleate       0.113809        0.248197         0.239275  \n",
       "99mTc-fanolesomab                  0.001278        0.248197         0.000736  \n",
       "ABIRATERONE                        0.776883        0.248197         0.239275  \n",
       "ACECLIDINE                         0.993502        0.790538         0.834230  \n",
       "ANGIOTENSIN II                     0.776883        0.248197         0.239275  \n",
       "...                                     ...             ...              ...  \n",
       "Zolmitriptan                       0.113809        0.248197         0.239275  \n",
       "Zotarolimus                        0.999997        0.939731         0.964917  \n",
       "lifitegrast                        0.113809        0.248197         0.239275  \n",
       "nusinersen                         0.393862        0.567643         0.599157  \n",
       "protirelin                         0.048552        0.790538         0.092330  \n",
       "\n",
       "[611 rows x 7 columns]"
      ]
     },
     "execution_count": 9,
     "metadata": {},
     "output_type": "execute_result"
    }
   ],
   "source": [
    "df_drug_scores_exponential = pd.DataFrame(drug_scores_exponential_list, \n",
    "                                          index=drug_list, \n",
    "                                          columns=df_scores_exponential.columns)\n",
    "df_drug_scores_exponential"
   ]
  },
  {
   "cell_type": "code",
   "execution_count": 19,
   "metadata": {
    "collapsed": false,
    "pycharm": {
     "name": "#%%\n"
    }
   },
   "outputs": [],
   "source": [
    "#df_best_exponential = df_drug_scores_exponential[\n",
    "#    (df_drug_scores_exponential['alkaptonuria'] > 0.95) |\n",
    "#    (df_drug_scores_exponential['homocystinuria'] > 0.95) |\n",
    "#    (df_drug_scores_exponential['nonketotic hyperglycinemia'] > 0.95) |\n",
    "#    (df_drug_scores_exponential['phenylketonuria'] > 0.95) |\n",
    "#    (df_drug_scores_exponential['tyrosinemia I'] > 0.95) |\n",
    "#    (df_drug_scores_exponential['tyrosinemia II'] > 0.95) |\n",
    "#    (df_drug_scores_exponential['tyrosinemia III'] > 0.95)]\n",
    "\n",
    "#df_best_exponential = df_drug_scores_exponential[\n",
    "#    (df_drug_scores_exponential['alkaptonuria'] > df_drug_scores_exponential.quantile(0.95)['alkaptonuria']) |\n",
    "#    (df_drug_scores_exponential['homocystinuria'] > df_drug_scores_exponential.quantile(0.95)['homocystinuria']) |\n",
    "#    (df_drug_scores_exponential['nonketotic hyperglycinemia'] > df_drug_scores_exponential.quantile(0.95)['nonketotic hyperglycinemia']) |\n",
    "#    (df_drug_scores_exponential['phenylketonuria'] > df_drug_scores_exponential.quantile(0.95)['phenylketonuria']) |\n",
    "#    (df_drug_scores_exponential['tyrosinemia I'] > df_drug_scores_exponential.quantile(0.95)['tyrosinemia I']) |\n",
    "#    (df_drug_scores_exponential['tyrosinemia II'] > df_drug_scores_exponential.quantile(0.95)['tyrosinemia II']) |\n",
    "#    (df_drug_scores_exponential['tyrosinemia III'] > df_drug_scores_exponential.quantile(0.95)['tyrosinemia III'])]"
   ]
  },
  {
   "cell_type": "code",
   "execution_count": 10,
   "metadata": {},
   "outputs": [],
   "source": [
    "def get_best_drugs(df, q=0.95):\n",
    "    best_drugs = {}\n",
    "    for c in df.columns:\n",
    "        df_best = df[df[c] > df.quantile(q)[c]][c]\n",
    "        best_drugs[c] = df_best\n",
    "    return best_drugs\n",
    "best_ed = get_best_drugs(df_drug_scores_exponential)"
   ]
  },
  {
   "cell_type": "markdown",
   "metadata": {
    "collapsed": false,
    "pycharm": {
     "name": "#%% md\n"
    }
   },
   "source": [
    "### Average shortest path ranking"
   ]
  },
  {
   "cell_type": "code",
   "execution_count": 11,
   "metadata": {
    "collapsed": false,
    "pycharm": {
     "name": "#%%\n"
    }
   },
   "outputs": [],
   "source": [
    "target_set = set(tar_genes)\n",
    "drug_list = []\n",
    "drug_scores_shortest_path_list = []\n",
    "for drug, targets in df_drugs.groupby('DrugName')['GeneName']:\n",
    "    intersection_genes = set(targets).intersection(tar_genes)\n",
    "    if intersection_genes:\n",
    "        drug_list.append(drug)\n",
    "        drug_scores_shortest_path_list.append(df_scores_shortest_path.loc[list(intersection_genes), :].max().values)"
   ]
  },
  {
   "cell_type": "code",
   "execution_count": 12,
   "metadata": {
    "collapsed": false,
    "pycharm": {
     "name": "#%%\n"
    }
   },
   "outputs": [
    {
     "data": {
      "text/html": [
       "<div>\n",
       "<style scoped>\n",
       "    .dataframe tbody tr th:only-of-type {\n",
       "        vertical-align: middle;\n",
       "    }\n",
       "\n",
       "    .dataframe tbody tr th {\n",
       "        vertical-align: top;\n",
       "    }\n",
       "\n",
       "    .dataframe thead th {\n",
       "        text-align: right;\n",
       "    }\n",
       "</style>\n",
       "<table border=\"1\" class=\"dataframe\">\n",
       "  <thead>\n",
       "    <tr style=\"text-align: right;\">\n",
       "      <th></th>\n",
       "      <th>alkaptonuria</th>\n",
       "      <th>homocystinuria</th>\n",
       "      <th>nonketotic hyperglycinemia</th>\n",
       "      <th>phenylketonuria</th>\n",
       "      <th>tyrosinemia I</th>\n",
       "      <th>tyrosinemia II</th>\n",
       "      <th>tyrosinemia III</th>\n",
       "    </tr>\n",
       "  </thead>\n",
       "  <tbody>\n",
       "    <tr>\n",
       "      <th>(S)-(+)-Dimethindene maleate</th>\n",
       "      <td>0.000007</td>\n",
       "      <td>0.268185</td>\n",
       "      <td>1.327958e-01</td>\n",
       "      <td>0.148496</td>\n",
       "      <td>1.080804e-01</td>\n",
       "      <td>0.307855</td>\n",
       "      <td>3.082494e-01</td>\n",
       "    </tr>\n",
       "    <tr>\n",
       "      <th>99mTc-fanolesomab</th>\n",
       "      <td>0.000007</td>\n",
       "      <td>0.018681</td>\n",
       "      <td>1.589052e-07</td>\n",
       "      <td>0.148496</td>\n",
       "      <td>2.566465e-11</td>\n",
       "      <td>0.307855</td>\n",
       "      <td>5.566580e-12</td>\n",
       "    </tr>\n",
       "    <tr>\n",
       "      <th>ABIRATERONE</th>\n",
       "      <td>0.443428</td>\n",
       "      <td>0.293066</td>\n",
       "      <td>9.010900e-02</td>\n",
       "      <td>0.675620</td>\n",
       "      <td>8.146838e-01</td>\n",
       "      <td>0.307855</td>\n",
       "      <td>3.082494e-01</td>\n",
       "    </tr>\n",
       "    <tr>\n",
       "      <th>ACECLIDINE</th>\n",
       "      <td>0.818410</td>\n",
       "      <td>0.387663</td>\n",
       "      <td>3.502618e-01</td>\n",
       "      <td>0.896911</td>\n",
       "      <td>9.971176e-01</td>\n",
       "      <td>0.823984</td>\n",
       "      <td>8.580806e-01</td>\n",
       "    </tr>\n",
       "    <tr>\n",
       "      <th>ANGIOTENSIN II</th>\n",
       "      <td>0.818410</td>\n",
       "      <td>0.524181</td>\n",
       "      <td>5.268939e-01</td>\n",
       "      <td>0.894107</td>\n",
       "      <td>8.146838e-01</td>\n",
       "      <td>0.307855</td>\n",
       "      <td>3.082494e-01</td>\n",
       "    </tr>\n",
       "    <tr>\n",
       "      <th>...</th>\n",
       "      <td>...</td>\n",
       "      <td>...</td>\n",
       "      <td>...</td>\n",
       "      <td>...</td>\n",
       "      <td>...</td>\n",
       "      <td>...</td>\n",
       "      <td>...</td>\n",
       "    </tr>\n",
       "    <tr>\n",
       "      <th>Zolmitriptan</th>\n",
       "      <td>0.818410</td>\n",
       "      <td>0.301927</td>\n",
       "      <td>3.502618e-01</td>\n",
       "      <td>0.004573</td>\n",
       "      <td>1.080804e-01</td>\n",
       "      <td>0.307855</td>\n",
       "      <td>3.082494e-01</td>\n",
       "    </tr>\n",
       "    <tr>\n",
       "      <th>Zotarolimus</th>\n",
       "      <td>0.996116</td>\n",
       "      <td>0.996837</td>\n",
       "      <td>9.979481e-01</td>\n",
       "      <td>0.951357</td>\n",
       "      <td>9.999952e-01</td>\n",
       "      <td>0.950216</td>\n",
       "      <td>9.684164e-01</td>\n",
       "    </tr>\n",
       "    <tr>\n",
       "      <th>lifitegrast</th>\n",
       "      <td>1.000000</td>\n",
       "      <td>0.301927</td>\n",
       "      <td>6.327948e-01</td>\n",
       "      <td>0.818416</td>\n",
       "      <td>1.080804e-01</td>\n",
       "      <td>0.307855</td>\n",
       "      <td>3.082494e-01</td>\n",
       "    </tr>\n",
       "    <tr>\n",
       "      <th>nusinersen</th>\n",
       "      <td>0.658568</td>\n",
       "      <td>0.467579</td>\n",
       "      <td>3.502618e-01</td>\n",
       "      <td>0.775098</td>\n",
       "      <td>4.123437e-01</td>\n",
       "      <td>0.624259</td>\n",
       "      <td>6.546052e-01</td>\n",
       "    </tr>\n",
       "    <tr>\n",
       "      <th>protirelin</th>\n",
       "      <td>0.818410</td>\n",
       "      <td>0.153645</td>\n",
       "      <td>3.938907e-05</td>\n",
       "      <td>0.197251</td>\n",
       "      <td>5.094355e-03</td>\n",
       "      <td>0.823984</td>\n",
       "      <td>1.906880e-02</td>\n",
       "    </tr>\n",
       "  </tbody>\n",
       "</table>\n",
       "<p>611 rows × 7 columns</p>\n",
       "</div>"
      ],
      "text/plain": [
       "                              alkaptonuria  homocystinuria  \\\n",
       "(S)-(+)-Dimethindene maleate      0.000007        0.268185   \n",
       "99mTc-fanolesomab                 0.000007        0.018681   \n",
       "ABIRATERONE                       0.443428        0.293066   \n",
       "ACECLIDINE                        0.818410        0.387663   \n",
       "ANGIOTENSIN II                    0.818410        0.524181   \n",
       "...                                    ...             ...   \n",
       "Zolmitriptan                      0.818410        0.301927   \n",
       "Zotarolimus                       0.996116        0.996837   \n",
       "lifitegrast                       1.000000        0.301927   \n",
       "nusinersen                        0.658568        0.467579   \n",
       "protirelin                        0.818410        0.153645   \n",
       "\n",
       "                              nonketotic hyperglycinemia  phenylketonuria  \\\n",
       "(S)-(+)-Dimethindene maleate                1.327958e-01         0.148496   \n",
       "99mTc-fanolesomab                           1.589052e-07         0.148496   \n",
       "ABIRATERONE                                 9.010900e-02         0.675620   \n",
       "ACECLIDINE                                  3.502618e-01         0.896911   \n",
       "ANGIOTENSIN II                              5.268939e-01         0.894107   \n",
       "...                                                  ...              ...   \n",
       "Zolmitriptan                                3.502618e-01         0.004573   \n",
       "Zotarolimus                                 9.979481e-01         0.951357   \n",
       "lifitegrast                                 6.327948e-01         0.818416   \n",
       "nusinersen                                  3.502618e-01         0.775098   \n",
       "protirelin                                  3.938907e-05         0.197251   \n",
       "\n",
       "                              tyrosinemia I  tyrosinemia II  tyrosinemia III  \n",
       "(S)-(+)-Dimethindene maleate   1.080804e-01        0.307855     3.082494e-01  \n",
       "99mTc-fanolesomab              2.566465e-11        0.307855     5.566580e-12  \n",
       "ABIRATERONE                    8.146838e-01        0.307855     3.082494e-01  \n",
       "ACECLIDINE                     9.971176e-01        0.823984     8.580806e-01  \n",
       "ANGIOTENSIN II                 8.146838e-01        0.307855     3.082494e-01  \n",
       "...                                     ...             ...              ...  \n",
       "Zolmitriptan                   1.080804e-01        0.307855     3.082494e-01  \n",
       "Zotarolimus                    9.999952e-01        0.950216     9.684164e-01  \n",
       "lifitegrast                    1.080804e-01        0.307855     3.082494e-01  \n",
       "nusinersen                     4.123437e-01        0.624259     6.546052e-01  \n",
       "protirelin                     5.094355e-03        0.823984     1.906880e-02  \n",
       "\n",
       "[611 rows x 7 columns]"
      ]
     },
     "execution_count": 12,
     "metadata": {},
     "output_type": "execute_result"
    }
   ],
   "source": [
    "df_drug_scores_shortest_path = pd.DataFrame(drug_scores_shortest_path_list, index=drug_list, columns=df_scores_shortest_path.columns)\n",
    "df_drug_scores_shortest_path"
   ]
  },
  {
   "cell_type": "code",
   "execution_count": 65,
   "metadata": {
    "collapsed": false,
    "pycharm": {
     "name": "#%%\n"
    }
   },
   "outputs": [],
   "source": [
    "#df_best_shortest_path = df_drug_scores_shortest_path[\n",
    "#    (df_drug_scores_shortest_path['alkaptonuria'] > 0.95) |\n",
    "#    (df_drug_scores_shortest_path['homocystinuria'] > 0.95) |\n",
    "#    (df_drug_scores_shortest_path['nonketotic hyperglycinemia'] > 0.95) |\n",
    "#    (df_drug_scores_shortest_path['phenylketonuria'] > 0.95) |\n",
    "#    (df_drug_scores_shortest_path['tyrosinemia I'] > 0.95) |\n",
    "#    (df_drug_scores_shortest_path['tyrosinemia II'] > 0.95) |\n",
    "#    (df_drug_scores_shortest_path['tyrosinemia III'] > 0.95)]\n",
    "\n",
    "#df_best_shortest_path = df_drug_scores_shortest_path[\n",
    "#    (df_drug_scores_shortest_path['alkaptonuria'] > df_drug_scores_shortest_path.quantile(0.95)['alkaptonuria']) |\n",
    "#    (df_drug_scores_shortest_path['homocystinuria'] > df_drug_scores_shortest_path.quantile(0.95)['homocystinuria']) |\n",
    "#    (df_drug_scores_shortest_path['nonketotic hyperglycinemia'] > df_drug_scores_shortest_path.quantile(0.95)['nonketotic hyperglycinemia']) |\n",
    "#    (df_drug_scores_shortest_path['phenylketonuria'] > df_drug_scores_shortest_path.quantile(0.95)['phenylketonuria']) |\n",
    "#    (df_drug_scores_shortest_path['tyrosinemia I'] > df_drug_scores_shortest_path.quantile(0.95)['tyrosinemia I']) |\n",
    "#    (df_drug_scores_shortest_path['tyrosinemia II'] > df_drug_scores_shortest_path.quantile(0.95)['tyrosinemia II']) |\n",
    "#    (df_drug_scores_shortest_path['tyrosinemia III'] > df_drug_scores_shortest_path.quantile(0.95)['tyrosinemia III'])]"
   ]
  },
  {
   "cell_type": "code",
   "execution_count": 13,
   "metadata": {},
   "outputs": [],
   "source": [
    "best_sp = get_best_drugs(df_drug_scores_shortest_path)"
   ]
  },
  {
   "cell_type": "markdown",
   "metadata": {},
   "source": [
    "### Compare the results"
   ]
  },
  {
   "cell_type": "code",
   "execution_count": 14,
   "metadata": {},
   "outputs": [
    {
     "name": "stdout",
     "output_type": "stream",
     "text": [
      "160 165\n"
     ]
    }
   ],
   "source": [
    "n_found_drugs_ed = sum([len(df) for _, df in best_ed.items()])\n",
    "n_found_drugs_sp = sum([len(df) for _, df in best_sp.items()])\n",
    "print(n_found_drugs_ed, n_found_drugs_sp)\n"
   ]
  },
  {
   "cell_type": "code",
   "execution_count": 15,
   "metadata": {},
   "outputs": [
    {
     "name": "stdout",
     "output_type": "stream",
     "text": [
      "alkaptonuria               29 29 1.00\n",
      "homocystinuria             31 31 0.13\n",
      "nonketotic hyperglycinemia 23 22 0.96\n",
      "phenylketonuria            19 19 1.00\n",
      "tyrosinemia I              18 31 0.26\n",
      "tyrosinemia II             26 19 0.73\n",
      "tyrosinemia III            14 14 1.00\n"
     ]
    }
   ],
   "source": [
    "def jacc(S: set, T: set):\n",
    "    inters = S.intersection(T)\n",
    "    union = S.union(T)\n",
    "    return len(inters)/len(union)\n",
    "\n",
    "for key in best_ed:\n",
    "    best_drugs_ed = set(best_ed[key].index)\n",
    "    best_drugs_sp = set(best_sp[key].index)\n",
    "    print(f'{key:26}', len(best_drugs_ed), len(best_drugs_sp), f'{jacc(best_drugs_ed, best_drugs_sp):.2f}')\n",
    "    "
   ]
  },
  {
   "cell_type": "code",
   "execution_count": 36,
   "metadata": {},
   "outputs": [
    {
     "name": "stdout",
     "output_type": "stream",
     "text": [
      "alkaptonuria\n",
      "{'Adenosine', 'DEOXYCYTIDINE', 'Orlistat', 'Dulaglutide', 'Dasatinib', 'Exenatide', 'SR141716A', 'Penciclovir', 'Propylthiouracil', 'L-Phenylalanine', 'Vidarabine', 'Metyrosine', 'Florbetapir F-18', 'Methimazole', 'Marinol', 'Carbimazole', 'Lixisenatide', 'lifitegrast', 'Carbidopa', 'Semaglutide', 'Vitamin B6', 'Monobenzone', 'Tetrahydrobiopterin', 'Nitisinone', 'Pramlintide', 'Liraglutide', 'L-Tyrosine', 'Hydroquinone', 'NABILONE'}\n",
      "\n",
      "homocystinuria\n",
      "{'Nandrolone', 'Prednisone', 'Testosterone', 'Bestatin', 'Nilutamide', 'Florbetapir F-18', 'Meprednisone', 'Flunisolide', 'Cyproterone', 'GW685698X', 'Flufenamic Acid', 'Mometasone', 'Hydrocortisone', 'Dromostanolone', 'Ethylestrenol', 'Oxandrolone', 'Betamethasone Benzoate', 'Prasterone', 'Hydrocortamate', 'Fluoxymesterone', 'Budesonide', 'Methylprednisolone', 'Betamethasone', 'Fluticasone', 'Flutamide', 'Mifepristone', 'Everolimus', 'Prednisolone', 'Acitretin', 'Dexamethasone', 'Larotrectinib', 'Enzalutamide', 'Triamcinolone', 'Fluorometholone', 'Betamethasone Valerate', 'Sirolimus', 'Deflazacort', 'Entrectinib', 'Trumenba', 'Tazemetostat', 'KU-0058948', 'Temsirolimus', 'Recombinant human endostatin', 'Niraparib Tosylate', 'PF-04449913', 'Clascoterone', 'Darolutamide', 'Hydroxyflutamide', 'Nicotinamide', 'Dexamethasone sodium phosphate', 'Fluocinolone Acetonide', 'ARN-509', 'Fludrocortisone', 'Zotarolimus', 'Bicalutamide'}\n",
      "\n",
      "nonketotic hyperglycinemia\n",
      "{'Artemether', 'Temsirolimus', 'Cerulenin', 'Digoxin', 'PF-04449913', 'Everolimus', 'Fluorouracil', 'Aluminium', 'Almitrine', 'Chloroprocaine', 'Acetyldigitoxin', 'Lumefantrine', 'Trimethoprim', 'Sanguinarine', 'Sirolimus', 'Leucovorin Calcium', 'Aminosalicylic Acid', 'Acocantherin', 'Givosiran', 'Methotrexate Sodium', 'Digitoxin', 'Deslanoside', 'Zotarolimus'}\n",
      "\n",
      "phenylketonuria\n",
      "{'Olaratumab', 'Cerulenin', 'Avapritinib', 'Pegvaliase', 'Epalrestat', 'L-Phenylalanine', 'Metyrosine', 'Telotristat ethyl', 'Sulindac', 'Ripretinib', 'Trimethoprim', 'Tetrahydrobiopterin', 'Leucovorin Calcium', 'Aminosalicylic Acid', 'Methotrexate Sodium', 'Sapropterin hydrochloride', 'GHRP-2', 'L-Tyrosine', 'Dasatinib'}\n",
      "\n",
      "tyrosinemia I\n",
      "{'Nandrolone', 'Taxol', 'Testosterone', 'Glassia', 'Cromoglicate', 'Nilutamide', 'Cyproterone', 'Flufenamic Acid', 'Dromostanolone', 'Ethylestrenol', 'Oxandrolone', 'Zemaira', 'Prasterone', 'Fluoxymesterone', 'Flutamide', 'Everolimus', 'Romidepsin', 'Larotrectinib', 'Enzalutamide', 'Difluprednate', 'Sirolimus', 'Entrectinib', 'KU-0058948', 'Temsirolimus', 'MCI-186', 'Niraparib Tosylate', 'Vorinostat', 'PF-04449913', 'Clascoterone', 'Darolutamide', 'Hydroxyflutamide', 'Panobinostat', 'Nicotinamide', 'Amlexanox', 'ARN-509', 'Fludrocortisone', 'Cantharidin', 'Zotarolimus', 'Bicalutamide'}\n",
      "\n",
      "tyrosinemia II\n",
      "{'Opicapone', 'Pegvaliase', 'Epalrestat', 'Propylthiouracil', 'L-Phenylalanine', 'Hydralazine', 'Metyrosine', 'Methimazole', 'Carbimazole', 'Telotristat ethyl', 'Sulindac', 'Tolcapone', 'Carbidopa', 'Clonidine', 'Vitamin B6', 'Monobenzone', 'Trimethoprim', 'Tetrahydrobiopterin', 'Leucovorin Calcium', 'Aminosalicylic Acid', 'Methotrexate Sodium', 'Nitisinone', 'Sapropterin hydrochloride', 'L-Tyrosine', 'Hydroquinone', 'Entacapone'}\n",
      "\n",
      "tyrosinemia III\n",
      "{'Metyrosine', 'Carbidopa', 'Monobenzone', 'Pegvaliase', 'Vitamin B6', 'Tetrahydrobiopterin', 'Propylthiouracil', 'Nitisinone', 'L-Phenylalanine', 'Sapropterin hydrochloride', 'L-Tyrosine', 'Hydroquinone', 'Methimazole', 'Carbimazole'}\n",
      "\n"
     ]
    }
   ],
   "source": [
    "def print_drugs(disease):\n",
    "    print(set(best_ed[disease].index).union(best_sp[disease].index))\n",
    "\n",
    "for dis in df_drug_scores_exponential.columns:\n",
    "    print(dis)\n",
    "    print_drugs(dis)\n",
    "    print()"
   ]
  },
  {
   "cell_type": "code",
   "execution_count": 28,
   "metadata": {},
   "outputs": [
    {
     "name": "stdout",
     "output_type": "stream",
     "text": [
      "Gene set of the drug {'TYMS', 'DPYD', 'CandiTMP1', 'EST2'}\n",
      "TYMS in the graph\n",
      "DPYD not in the graph\n",
      "CandiTMP1 not in the graph\n",
      "EST2 not in the graph\n",
      "\n",
      "Disease nonketotic hyperglycinemia, drug Fluorouracil\n",
      "Exponential decay score 1.000\n",
      "Shortest path score 1.000\n",
      "Drug relevant (ed score)\n",
      "Drug relevant (sp score)\n"
     ]
    }
   ],
   "source": [
    "import networkx as nx\n",
    "G = nx.read_gpickle('data/protein_graph')\n",
    "\n",
    "def check_disease_drug(disease, drug):\n",
    "    # Check if the drug exists in our dataset\n",
    "    if not len(df_drugs[df_drugs['DrugName'] == drug]):\n",
    "        print(f'{drug} not in the dataset')\n",
    "        return\n",
    "\n",
    "    # Get the genes associated with the drug\n",
    "    gene_set = set(df_drugs[df_drugs['DrugName'] == drug]['GeneName'])\n",
    "    print('Gene set of the drug', gene_set)\n",
    "    one_present = False\n",
    "    for gene in gene_set:\n",
    "        if gene in G.nodes():\n",
    "            print(f'{gene} in the graph')\n",
    "            one_present = True\n",
    "        else:\n",
    "            print(f'{gene} not in the graph')\n",
    "    if not one_present:\n",
    "        print('No genes matched')\n",
    "        return\n",
    "    print()\n",
    "    # Check scores\n",
    "    print(f'Disease {disease}, drug {drug}')\n",
    "    print(f'Exponential decay score {df_drug_scores_exponential.loc[drug, disease]:.3f}')\n",
    "    print(f'Shortest path score {df_drug_scores_shortest_path.loc[drug, disease]:.3f}')\n",
    "\n",
    "    # Check if relevant\n",
    "    print('Drug relevant' if drug in best_ed[disease].index else 'Drug not relevant', '(ed score)')\n",
    "    print('Drug relevant' if drug in best_sp[disease].index else 'Drug not relevant', '(sp score)')\n",
    "\n",
    "\n",
    "check_disease_drug('nonketotic hyperglycinemia', 'Fluorouracil')\n",
    "    "
   ]
  },
  {
   "cell_type": "markdown",
   "metadata": {},
   "source": [
    "### Validation"
   ]
  },
  {
   "cell_type": "code",
   "execution_count": 17,
   "metadata": {},
   "outputs": [],
   "source": [
    "drug_set = set(df_drugs['DrugName'])"
   ]
  },
  {
   "cell_type": "code",
   "execution_count": 18,
   "metadata": {},
   "outputs": [
    {
     "data": {
      "text/plain": [
       "set()"
      ]
     },
     "execution_count": 18,
     "metadata": {},
     "output_type": "execute_result"
    }
   ],
   "source": [
    "pc = pd.read_csv('chemicals/phenylketonuria_chemicals.csv')\n",
    "pc = pc['Chemical Name']\n",
    "pc = drug_set.intersection(set(pc))\n",
    "dd = df_drug_scores_exponential[\n",
    "    df_drug_scores_exponential['phenylketonuria'] > df_drug_scores_exponential.quantile(0.95)['phenylketonuria']]['phenylketonuria'].index\n",
    "set(dd).intersection(pc)"
   ]
  },
  {
   "cell_type": "code",
   "execution_count": 33,
   "metadata": {},
   "outputs": [
    {
     "data": {
      "text/plain": [
       "{'Flutamide', 'Testosterone'}"
      ]
     },
     "execution_count": 33,
     "metadata": {},
     "output_type": "execute_result"
    }
   ],
   "source": [
    "pc = pd.read_csv('chemicals/homocystinuria_chemicals.csv')\n",
    "pc = pc['Chemical Name']\n",
    "pc = drug_set.intersection(set(pc))\n",
    "dd = df_drug_scores_exponential[\n",
    "    df_drug_scores_exponential['homocystinuria'] > df_drug_scores_exponential.quantile(0.95)['homocystinuria']]['homocystinuria'].index\n",
    "set(dd).intersection(pc)"
   ]
  },
  {
   "cell_type": "code",
   "execution_count": 34,
   "metadata": {},
   "outputs": [
    {
     "data": {
      "text/plain": [
       "{'Propylthiouracil'}"
      ]
     },
     "execution_count": 34,
     "metadata": {},
     "output_type": "execute_result"
    }
   ],
   "source": [
    "pc = pd.read_csv('chemicals/alkaptonuria_chemicals.tsv', sep='\\t')\n",
    "pc = pc['Chemical Name']\n",
    "pc = drug_set.intersection(set(pc))\n",
    "dd = df_drug_scores_exponential[\n",
    "    df_drug_scores_exponential['alkaptonuria'] > df_drug_scores_exponential.quantile(0.95)['alkaptonuria']]['alkaptonuria'].index\n",
    "set(dd).intersection(pc)"
   ]
  },
  {
   "cell_type": "code",
   "execution_count": 27,
   "metadata": {},
   "outputs": [
    {
     "data": {
      "text/plain": [
       "{'Fluorouracil'}"
      ]
     },
     "execution_count": 27,
     "metadata": {},
     "output_type": "execute_result"
    }
   ],
   "source": [
    "pc = pd.read_csv('chemicals/nonketotic_chemicals.csv')\n",
    "pc = pc['Chemical Name']\n",
    "pc = drug_set.intersection(set(pc))\n",
    "dd = df_drug_scores_exponential[\n",
    "    df_drug_scores_exponential['nonketotic hyperglycinemia'] > df_drug_scores_exponential.quantile(0.95)['nonketotic hyperglycinemia']]['nonketotic hyperglycinemia'].index\n",
    "set(dd).intersection(pc)"
   ]
  },
  {
   "cell_type": "code",
   "execution_count": 27,
   "metadata": {},
   "outputs": [
    {
     "data": {
      "text/plain": [
       "{'Propylthiouracil'}"
      ]
     },
     "execution_count": 27,
     "metadata": {},
     "output_type": "execute_result"
    }
   ],
   "source": [
    "pc = pd.read_csv('chemicals/alkaptonuria_chemicals.tsv', sep='\\t')\n",
    "pc = pc['Chemical Name']\n",
    "pc = drug_set.intersection(set(pc))\n",
    "dd = df_drug_scores_exponential[\n",
    "    df_drug_scores_exponential['alkaptonuria'] > df_drug_scores_exponential.quantile(0.95)['alkaptonuria']]['alkaptonuria'].index\n",
    "set(dd).intersection(pc)"
   ]
  },
  {
   "cell_type": "code",
   "execution_count": 30,
   "metadata": {},
   "outputs": [
    {
     "data": {
      "text/plain": [
       "{'Vorinostat'}"
      ]
     },
     "execution_count": 30,
     "metadata": {},
     "output_type": "execute_result"
    }
   ],
   "source": [
    "pc = pd.read_csv('chemicals/tyrosinemia_chemicals.csv')\n",
    "pc = pc['Chemical Name']\n",
    "pc = drug_set.intersection(set(pc))\n",
    "dd = df_drug_scores_exponential[\n",
    "    df_drug_scores_exponential['tyrosinemia I'] > df_drug_scores_exponential.quantile(0.95)['tyrosinemia I']]['tyrosinemia I'].index\n",
    "set(dd).intersection(pc)"
   ]
  },
  {
   "cell_type": "code",
   "execution_count": 32,
   "metadata": {},
   "outputs": [
    {
     "data": {
      "text/plain": [
       "{'Propylthiouracil'}"
      ]
     },
     "execution_count": 32,
     "metadata": {},
     "output_type": "execute_result"
    }
   ],
   "source": [
    "pc = pd.read_csv('chemicals/tyrosinemia_chemicals.csv')\n",
    "pc = pc['Chemical Name']\n",
    "pc = drug_set.intersection(set(pc))\n",
    "dd = df_drug_scores_exponential[\n",
    "    df_drug_scores_exponential['tyrosinemia II'] > df_drug_scores_exponential.quantile(0.95)['tyrosinemia II']]['tyrosinemia II'].index\n",
    "set(dd).intersection(pc)"
   ]
  },
  {
   "cell_type": "code",
   "execution_count": 31,
   "metadata": {},
   "outputs": [
    {
     "data": {
      "text/plain": [
       "{'Propylthiouracil'}"
      ]
     },
     "execution_count": 31,
     "metadata": {},
     "output_type": "execute_result"
    }
   ],
   "source": [
    "pc = pd.read_csv('chemicals/tyrosinemia_chemicals.csv')\n",
    "pc = pc['Chemical Name']\n",
    "pc = drug_set.intersection(set(pc))\n",
    "dd = df_drug_scores_exponential[\n",
    "    df_drug_scores_exponential['tyrosinemia III'] > df_drug_scores_exponential.quantile(0.95)['tyrosinemia III']]['tyrosinemia III'].index\n",
    "set(dd).intersection(pc)"
   ]
  }
 ],
 "metadata": {
  "kernelspec": {
   "display_name": "Python 3.10.2 64-bit",
   "language": "python",
   "name": "python3"
  },
  "language_info": {
   "codemirror_mode": {
    "name": "ipython",
    "version": 3
   },
   "file_extension": ".py",
   "mimetype": "text/x-python",
   "name": "python",
   "nbconvert_exporter": "python",
   "pygments_lexer": "ipython3",
   "version": "3.10.2"
  },
  "vscode": {
   "interpreter": {
    "hash": "f2c2131e2ccb2c92cb6b923635efe13d97f6fbac418b823bc9d3d6fb8398f175"
   }
  }
 },
 "nbformat": 4,
 "nbformat_minor": 0
}
